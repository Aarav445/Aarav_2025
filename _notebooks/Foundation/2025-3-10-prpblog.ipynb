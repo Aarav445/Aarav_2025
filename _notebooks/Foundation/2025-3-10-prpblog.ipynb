{
 "cells": [
  {
   "cell_type": "markdown",
   "metadata": {},
   "source": [
    "---\n",
    "layout: post\n",
    "title: PRP Blog\n",
    "Toc: True\n",
    "comments: True\n",
    "---"
   ]
  },
  {
   "cell_type": "markdown",
   "metadata": {},
   "source": [
    "# A list being created\n",
    "This query retrieves all user profiles stored in the database and stores them in a list.\n",
    "for bio in bio_entries:\n",
    "\n",
    "bio_entries = Bio.query.all()\n",
    "\n",
    "\n",
    "# A list being processed \n",
    "\n",
    "This loop goes through each profile entry and extracts important user details, storing them in a dictionary format for easy access or further processing.\n",
    "   \n",
    "    profile_data = \n",
    "        \"uid\": bio.uid,\n",
    "        \"name\": bio.name,\n",
    "        \"bio\": bio.bio,\n",
    "        \"profilePicture\": bio.profile_picture\n",
    "    \n",
    "# A function\n",
    "This function updates a user's profile in the database. If a profile with the given uid exists, it modifies the name, password, bio, and profile picture. The changes are then committed to the database to ensure they are saved.\n",
    "\n",
    "def update_profile(uid, name, password, bio, profile_picture): bio_entry = Bio.query.filter_by(uid=uid).first() if bio_entry: bio_entry.name = name; bio_entry.password = password; bio_entry.bio = bio; bio_entry.profile_picture = profile_picture; db.session.commit(); return {\"message\": \"Profile updated successfully!\"}, 200\n",
    "\n",
    "\n",
    "    \n",
    " \n",
    " \n",
    " # A call to that function \n",
    " This calls the update_profile function, passing in the necessary details to update the user's profile in the database.\n",
    "\n",
    "\n",
    " update_profile(uid, name, password, bio, profile_picture_filename)\n"
   ]
  }
 ],
 "metadata": {
  "language_info": {
   "name": "python"
  }
 },
 "nbformat": 4,
 "nbformat_minor": 2
}
