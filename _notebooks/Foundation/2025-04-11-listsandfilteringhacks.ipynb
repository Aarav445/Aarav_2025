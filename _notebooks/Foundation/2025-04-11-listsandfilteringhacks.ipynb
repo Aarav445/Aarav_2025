{
 "cells": [
  {
   "cell_type": "markdown",
   "metadata": {},
   "source": [
    "Popcorn Hack 1:\n",
    "Answer: - ✅ Store lots of data in one place - ✅ Access each item individually - ✅ Filter, sort, and organize that data\n",
    "Popcorn Hack 2:\n",
    "Sharpener\n",
    "Popcorn Hack 3:\n",
    "📧 Inbox → email is unread → Unread emails only (new list)\n",
    "🛒 Online Shopping → price < $20 → Discounted items (new list)\n",
    "🎵 Spotify → Artist == \"Singer A\" → Only songs by Singer A (new list)\n"
   ]
  },
  {
   "cell_type": "code",
   "execution_count": null,
   "metadata": {
    "vscode": {
     "languageId": "javascript"
    }
   },
   "outputs": [],
   "source": [
    "# Step 1: Creating a list\n",
    "snacks = [\"chips\", \"cookies\", \"granola bar\", \"apple\", \"banana\"]\n",
    "\n",
    "# Procedure 1: Append - Adds an item to the end\n",
    "snacks.append(\"pretzels\")  # ['chips', 'cookies', 'granola bar', 'apple', 'banana', 'pretzels']\n",
    "\n",
    "# Procedure 2: Insert - Adds item at specific index\n",
    "snacks.insert(2, \"popcorn\")  # ['chips', 'cookies', 'popcorn', 'granola bar', 'apple', 'banana', 'pretzels']\n",
    "\n",
    "# Procedure 3: Remove - Removes first matching item\n",
    "snacks.remove(\"apple\")  # ['chips', 'cookies', 'popcorn', 'granola bar', 'banana', 'pretzels']\n",
    "\n",
    "print(\"Final list:\", snacks)\n"
   ]
  },
  {
   "cell_type": "code",
   "execution_count": null,
   "metadata": {
    "vscode": {
     "languageId": "javascript"
    }
   },
   "outputs": [],
   "source": [
    "import pandas as pd\n",
    "\n",
    "# Step 1: Start with a list\n",
    "students = [\"Zafeer\", \"Keerthan\", \"Hithin\", \"Amy\", \"Zara\"]\n",
    "\n",
    "# Convert to a dataframe (simulating database)\n",
    "df = pd.DataFrame(students, columns=[\"Name\"])\n",
    "\n",
    "# Step 2: Choose condition — names that start with 'Z'\n",
    "filtered = df[df[\"Name\"].str.startswith(\"Z\")]\n",
    "\n",
    "print(\"Filtered names:\\n\", filtered)\n"
   ]
  },
  {
   "cell_type": "markdown",
   "metadata": {},
   "source": [
    "Lists and filtering algorithms are used in apps like email, shopping, and streaming to manage and organize large sets of data efficiently. Filtering algorithms help users quickly find what they’re looking for by applying conditions to narrow down the results.\n"
   ]
  }
 ],
 "metadata": {
  "language_info": {
   "name": "python"
  }
 },
 "nbformat": 4,
 "nbformat_minor": 2
}
