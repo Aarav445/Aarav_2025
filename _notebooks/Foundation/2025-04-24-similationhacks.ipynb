{
 "cells": [
  {
   "cell_type": "markdown",
   "id": "941bb938",
   "metadata": {},
   "source": [
    "# Popcorn Hacks:\n",
    "1. Common real world application for random number generators consists of for games and simulations.\n",
    "\n",
    "\n",
    "\n"
   ]
  },
  {
   "cell_type": "code",
   "execution_count": null,
   "id": "c16ba667",
   "metadata": {
    "vscode": {
     "languageId": "javascript"
    }
   },
   "outputs": [],
   "source": [
    "import random\n",
    "\n",
    "def magic_8_ball():\n",
    "    roll = random.random()  # generates a number between 0.0 and 1.0\n",
    "    if roll < 0.5:\n",
    "        return \"Yes\"\n",
    "    elif roll < 0.75:\n",
    "        return \"No\"\n",
    "    else:\n",
    "        return \"Ask again later\"\n",
    "\n",
    "# Test your function\n",
    "for i in range(10):\n",
    "    print(f\"Magic 8-Ball says: {magic_8_ball()}\")\n"
   ]
  },
  {
   "cell_type": "code",
   "execution_count": null,
   "id": "8e2f9a1f",
   "metadata": {
    "vscode": {
     "languageId": "javascript"
    }
   },
   "outputs": [],
   "source": [
    "# Modified traffic light simulation\n",
    "\n",
    "states = [\"Green\", \"Yellow\", \"Red\"]\n",
    "durations = {\"Green\": 5, \"Yellow\": 2, \"Red\": 4}\n",
    "timeline = []\n",
    "\n",
    "# Simulate 20 time steps\n",
    "time = 0\n",
    "state = \"Green\"\n",
    "counter = 0\n",
    "\n",
    "while time < 20:\n",
    "    timeline.append((time, state))\n",
    "    counter += 1\n",
    "    if counter == durations[state]:\n",
    "        counter = 0\n",
    "        current_index = states.index(state)\n",
    "        state = states[(current_index + 1) % len(states)]\n",
    "    time += 1\n",
    "\n",
    "for t, s in timeline:\n",
    "    print(f\"Time {t}: {s}\")\n"
   ]
  },
  {
   "cell_type": "code",
   "execution_count": null,
   "id": "bb50aa8a",
   "metadata": {
    "vscode": {
     "languageId": "javascript"
    }
   },
   "outputs": [],
   "source": [
    "import random\n",
    "\n",
    "def roll_dice():\n",
    "    return random.randint(1, 6) + random.randint(1, 6)\n",
    "\n",
    "def play_game():\n",
    "    first_roll = roll_dice()\n",
    "    \n",
    "    if first_roll in [7, 11]:\n",
    "        return \"Win\"\n",
    "    elif first_roll in [2, 3, 12]:\n",
    "        return \"Lose\"\n",
    "    else:\n",
    "        point = first_roll\n",
    "        while True:\n",
    "            roll = roll_dice()\n",
    "            if roll == point:\n",
    "                return \"Win\"\n",
    "            elif roll == 7:\n",
    "                return \"Lose\"\n",
    "\n",
    "# Simulate 1000 games and track statistics\n",
    "wins = 0\n",
    "losses = 0\n",
    "games_to_play = 1000\n",
    "\n",
    "for _ in range(games_to_play):\n",
    "    result = play_game()\n",
    "    if result == \"Win\":\n",
    "        wins += 1\n",
    "    else:\n",
    "        losses += 1\n",
    "\n",
    "print(f\"Games Played: {games_to_play}\")\n",
    "print(f\"Wins: {wins}\")\n",
    "print(f\"Losses: {losses}\")\n",
    "print(f\"Win Rate: {wins / games_to_play:.2%}\")\n"
   ]
  }
 ],
 "metadata": {
  "language_info": {
   "name": "python"
  }
 },
 "nbformat": 4,
 "nbformat_minor": 5
}
