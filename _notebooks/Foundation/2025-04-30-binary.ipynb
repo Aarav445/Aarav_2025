{
 "cells": [
  {
   "cell_type": "raw",
   "id": "4406ba1b",
   "metadata": {},
   "source": [
    "True False True"
   ]
  },
  {
   "cell_type": "code",
   "execution_count": null,
   "id": "9d987453",
   "metadata": {
    "vscode": {
     "languageId": "javascript"
    }
   },
   "outputs": [],
   "source": [
    "# Convert decimal to binary\n",
    "def decimal_to_binary(n):\n",
    "    return bin(n)[2:] if n >= 0 else '-' + bin(abs(n))[2:]\n",
    "\n",
    "# Convert binary to decimal\n",
    "def binary_to_decimal(b):\n",
    "    return int(b, 2) if not b.startswith('-') else -int(b[1:], 2)\n",
    "\n",
    "# Test cases\n",
    "print(\"Decimal to Binary:\")\n",
    "print(\"10 →\", decimal_to_binary(10))     # 1010\n",
    "print(\"-10 →\", decimal_to_binary(-10))   # -1010\n",
    "\n",
    "print(\"\\nBinary to Decimal:\")\n",
    "print(\"1010 →\", binary_to_decimal(\"1010\"))     # 10\n",
    "print(\"-1010 →\", binary_to_decimal(\"-1010\"))   # -10\n"
   ]
  },
  {
   "cell_type": "code",
   "execution_count": null,
   "id": "471b1ef8",
   "metadata": {
    "vscode": {
     "languageId": "javascript"
    }
   },
   "outputs": [],
   "source": [
    "import time\n",
    "\n",
    "difficulty = input(\"Enter difficulty (easy, medium, hard): \").lower().strip()\n",
    "\n",
    "while difficulty not in [\"easy\", \"medium\", \"hard\"]:\n",
    "    print(\"Please enter a valid difficulty level.\")\n",
    "    difficulty = input(\"Enter difficulty (easy, medium, hard): \").lower().strip()\n",
    "    time.sleep(0.5)\n",
    "\n",
    "print(\"Difficulty set to:\", difficulty)\n"
   ]
  }
 ],
 "metadata": {
  "language_info": {
   "name": "python"
  }
 },
 "nbformat": 4,
 "nbformat_minor": 5
}
